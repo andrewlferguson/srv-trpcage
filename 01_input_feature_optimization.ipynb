{
 "cells": [
  {
   "cell_type": "code",
   "execution_count": 1,
   "metadata": {},
   "outputs": [],
   "source": [
    "%matplotlib inline \n",
    "import os\n",
    "import pickle\n",
    "import pyemma as py\n",
    "import numpy as np \n",
    "import mdtraj as md\n",
    "import matplotlib.pyplot as plt\n",
    "import seaborn as sns"
   ]
  },
  {
   "cell_type": "code",
   "execution_count": 2,
   "metadata": {},
   "outputs": [],
   "source": [
    "%load_ext autoreload\n",
    "%autoreload 2"
   ]
  },
  {
   "cell_type": "code",
   "execution_count": 3,
   "metadata": {},
   "outputs": [],
   "source": [
    "import utils"
   ]
  },
  {
   "cell_type": "markdown",
   "metadata": {},
   "source": [
    "## Load data from trajectory and generate features"
   ]
  },
  {
   "cell_type": "code",
   "execution_count": 4,
   "metadata": {},
   "outputs": [],
   "source": [
    "trj_dir = '/home/hsidky/Data/DESRES-Trajectory_2JOF-0-protein/2JOF-0-protein'"
   ]
  },
  {
   "cell_type": "code",
   "execution_count": 5,
   "metadata": {},
   "outputs": [],
   "source": [
    "trj_file = os.path.join(trj_dir, 'trp-cage_rmsdmin.dcd')\n",
    "raw_file = os.path.join(trj_dir, 'trp-cage_raw.dcd')\n",
    "pdb_file = os.path.join(trj_dir, '2JOF-0-protein.pdb')"
   ]
  },
  {
   "cell_type": "code",
   "execution_count": 6,
   "metadata": {},
   "outputs": [
    {
     "name": "stderr",
     "output_type": "stream",
     "text": [
      "/home/hsidky/miniconda3/envs/dnets2/lib/python3.6/site-packages/mdtraj/formats/pdb/pdbfile.py:196: UserWarning: Unlikely unit cell vectors detected in PDB file likely resulting from a dummy CRYST1 record. Discarding unit cell vectors.\n",
      "  warnings.warn('Unlikely unit cell vectors detected in PDB file likely '\n"
     ]
    }
   ],
   "source": [
    "trj = md.load(trj_file, top=pdb_file)\n",
    "ref = md.load('2jof.pdb')"
   ]
  },
  {
   "cell_type": "code",
   "execution_count": 7,
   "metadata": {},
   "outputs": [],
   "source": [
    "ca_atoms = trj.topology.select('name CA')\n",
    "ref_ca_atoms = ref.topology.select('name CA')"
   ]
  },
  {
   "cell_type": "code",
   "execution_count": 8,
   "metadata": {},
   "outputs": [],
   "source": [
    "trj_ca_slice = trj.atom_slice(ca_atoms)\n",
    "ref_ca_slice = ref.atom_slice(ref_ca_atoms)"
   ]
  },
  {
   "cell_type": "code",
   "execution_count": 9,
   "metadata": {},
   "outputs": [
    {
     "data": {
      "application/vnd.jupyter.widget-view+json": {
       "model_id": "",
       "version_major": 2,
       "version_minor": 0
      },
      "text/plain": [
       "HBox(children=(HBox(children=(Label(value='getting output of FeatureReader'),), layout=Layout(max_width='35%',…"
      ]
     },
     "metadata": {},
     "output_type": "display_data"
    },
    {
     "name": "stdout",
     "output_type": "stream",
     "text": [
      "\r"
     ]
    },
    {
     "data": {
      "application/vnd.jupyter.widget-view+json": {
       "model_id": "",
       "version_major": 2,
       "version_minor": 0
      },
      "text/plain": [
       "HBox(children=(HBox(children=(Label(value='getting output of FeatureReader'),), layout=Layout(max_width='35%',…"
      ]
     },
     "metadata": {},
     "output_type": "display_data"
    },
    {
     "name": "stdout",
     "output_type": "stream",
     "text": [
      "\r"
     ]
    },
    {
     "data": {
      "application/vnd.jupyter.widget-view+json": {
       "model_id": "",
       "version_major": 2,
       "version_minor": 0
      },
      "text/plain": [
       "HBox(children=(HBox(children=(Label(value='getting output of FeatureReader'),), layout=Layout(max_width='35%',…"
      ]
     },
     "metadata": {},
     "output_type": "display_data"
    },
    {
     "name": "stdout",
     "output_type": "stream",
     "text": [
      "\r"
     ]
    }
   ],
   "source": [
    "torsions_feat = py.coordinates.featurizer(pdb_file)\n",
    "torsions_feat.add_backbone_torsions(cossin=True, periodic=False)\n",
    "torsions_data = py.coordinates.load(trj_file, features=torsions_feat)\n",
    "\n",
    "ca_distances_feat = py.coordinates.featurizer(pdb_file)\n",
    "ca_distances_feat.add_distances_ca(periodic=False)\n",
    "ca_distances_data = py.coordinates.load(trj_file, features=ca_distances_feat)\n",
    "\n",
    "combined_feat = py.coordinates.featurizer(pdb_file)\n",
    "combined_feat.add_backbone_torsions(cossin=True, periodic=False)\n",
    "combined_feat.add_sidechain_torsions(cossin=True, which=['chi1'], periodic=False)\n",
    "combined_feat.add_distances_ca(periodic=False)\n",
    "combined_data = py.coordinates.load(trj_file, features=combined_feat)\n",
    "\n",
    "allatom_feat = py.coordinates.featurizer(pdb_file)\n",
    "allatom_feat.add_all()\n",
    "allatom_data = py.coordinates.load(trj_file, features=allatom_feat)"
   ]
  },
  {
   "cell_type": "code",
   "execution_count": 11,
   "metadata": {},
   "outputs": [
    {
     "data": {
      "application/vnd.jupyter.widget-view+json": {
       "model_id": "",
       "version_major": 2,
       "version_minor": 0
      },
      "text/plain": [
       "HBox(children=(HBox(children=(Label(value='getting output of FeatureReader'),), layout=Layout(max_width='35%',…"
      ]
     },
     "metadata": {},
     "output_type": "display_data"
    },
    {
     "name": "stdout",
     "output_type": "stream",
     "text": [
      "\r"
     ]
    }
   ],
   "source": [
    "my_ca_distances_feat = py.coordinates.featurizer(pdb_file)\n",
    "my_ca_distances_feat.add_distances_ca(periodic=False, excluded_neighbors=0)\n",
    "my_ca_distances_data = py.coordinates.load(trj_file, features=my_ca_distances_feat)"
   ]
  },
  {
   "cell_type": "code",
   "execution_count": 12,
   "metadata": {},
   "outputs": [],
   "source": [
    "pickle.dump(my_ca_distances_data, open('complete_ca_distances.pkl', 'wb'))"
   ]
  },
  {
   "cell_type": "markdown",
   "metadata": {},
   "source": [
    "## Chunk features"
   ]
  },
  {
   "cell_type": "code",
   "execution_count": 17,
   "metadata": {},
   "outputs": [],
   "source": [
    "from sklearn.model_selection import train_test_split"
   ]
  },
  {
   "cell_type": "code",
   "execution_count": 18,
   "metadata": {},
   "outputs": [],
   "source": [
    "n_chunks = 100"
   ]
  },
  {
   "cell_type": "code",
   "execution_count": 35,
   "metadata": {},
   "outputs": [],
   "source": [
    "torsions_chunked = utils.chunk_data(torsions_data, n_chunks)\n",
    "ca_dists_chunked = utils.chunk_data(ca_distances_data, n_chunks)\n",
    "combined_chunked = utils.chunk_data(combined_data, n_chunks)\n",
    "xyz_chunked = utils.chunk_data(allatom_data, n_chunks)"
   ]
  },
  {
   "cell_type": "code",
   "execution_count": 32,
   "metadata": {},
   "outputs": [],
   "source": [
    "def score_cv(data, dim, lag, test_size=0.5, k_folds=10):\n",
    "    scores = np.zeros(k_folds)\n",
    "    # we temporarily suppress very short-lived progress bars\n",
    "    with py.util.contexts.settings(show_progress_bars=False):\n",
    "        for k in range(k_folds):\n",
    "            train_data, test_data = train_test_split(data, test_size=0.5)\n",
    "            vamp = py.coordinates.vamp(train_data, lag=lag, dim=dim, ncov_max=2)\n",
    "            scores[k] = vamp.score(test_data)\n",
    "    return scores"
   ]
  },
  {
   "cell_type": "code",
   "execution_count": 38,
   "metadata": {},
   "outputs": [],
   "source": [
    "dim = 10\n",
    "k_folds = 10\n",
    "lags = [25, 50, 100, 200]\n",
    "labels = [\"Torsions\"]\n",
    "labels += [r'C$\\alpha$ distances']\n",
    "labels += [\"Combined\"]\n",
    "labels += [\"XYZ\"]"
   ]
  },
  {
   "cell_type": "code",
   "execution_count": 39,
   "metadata": {},
   "outputs": [
    {
     "name": "stdout",
     "output_type": "stream",
     "text": [
      "Finished lag =25\n",
      "Finished lag =50\n",
      "Finished lag =100\n",
      "Finished lag =200\n"
     ]
    }
   ],
   "source": [
    "all_scores = []\n",
    "all_errors = []\n",
    "\n",
    "for lag in lags: \n",
    "    torsions_scores = score_cv(torsions_chunked, dim=dim, lag=lag)\n",
    "    scores = [torsions_scores.mean()]\n",
    "    errors = [torsions_scores.std()]\n",
    "    \n",
    "    ca_distances_scores = score_cv(ca_dists_chunked,dim=dim, lag=lag)\n",
    "    scores += [ca_distances_scores.mean()]\n",
    "    errors += [ca_distances_scores.std()]\n",
    "  \n",
    "    combined_scores = score_cv(combined_chunked, dim=dim, lag=lag)\n",
    "    scores += [combined_scores.mean()]\n",
    "    errors += [combined_scores.std()]\n",
    "    \n",
    "    allatom_scores = score_cv(xyz_chunked, dim=dim, lag=lag)\n",
    "    scores += [allatom_scores.mean()]\n",
    "    errors += [allatom_scores.std()]\n",
    "    \n",
    "    all_scores.append(scores)\n",
    "    all_errors.append(errors)\n",
    "    \n",
    "    print('Finished lag = {}'.format(lag))"
   ]
  },
  {
   "cell_type": "code",
   "execution_count": 40,
   "metadata": {},
   "outputs": [],
   "source": [
    "pickle.dump([all_scores, all_errors], open('feature_vamp2_scores.pkl', 'wb'))"
   ]
  },
  {
   "cell_type": "code",
   "execution_count": 44,
   "metadata": {
    "scrolled": false
   },
   "outputs": [
    {
     "data": {
      "image/png": "[encoded data removed]",
      "text/plain": [
       "<Figure size 360x360 with 4 Axes>"
      ]
     },
     "metadata": {},
     "output_type": "display_data"
    }
   ],
   "source": [
    "sns.set_style('white')\n",
    "sns.set_palette('muted')\n",
    "plt.rcParams['font.size'] = 12\n",
    "\n",
    "fig, axes = plt.subplots(2, 2, figsize=(5, 5), sharex=True, sharey=True)\n",
    "\n",
    "for ax, scores, errors, lag in zip(axes.flat, all_scores, all_errors, lags): \n",
    "    ax.bar(labels, scores, yerr=errors, color=sns.color_palette(\"muted\"))\n",
    "    ax.set_xticklabels(labels, rotation=90)\n",
    "    ax.set_title(r\"lag time $\\tau$={:.1f}ns\".format(lag*0.2))\n",
    "    ax.set_ylabel(\"VAMP2 score\")\n",
    "    \n",
    "plt.savefig('figures/feature_vamp2.pdf', dpi=300, bbox_inches='tight')\n",
    "plt.show()"
   ]
  },
  {
   "cell_type": "code",
   "execution_count": null,
   "metadata": {},
   "outputs": [],
   "source": []
  }
 ],
 "metadata": {
  "kernelspec": {
   "display_name": "Python [conda env:dnets2]",
   "language": "python",
   "name": "conda-env-dnets2-py"
  },
  "language_info": {
   "codemirror_mode": {
    "name": "ipython",
    "version": 3
   },
   "file_extension": ".py",
   "mimetype": "text/x-python",
   "name": "python",
   "nbconvert_exporter": "python",
   "pygments_lexer": "ipython3",
   "version": "3.6.8"
  }
 },
 "nbformat": 4,
 "nbformat_minor": 2
}
